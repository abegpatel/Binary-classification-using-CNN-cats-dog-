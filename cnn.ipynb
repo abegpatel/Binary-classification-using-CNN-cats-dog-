{
  "nbformat": 4,
  "nbformat_minor": 0,
  "metadata": {
    "colab": {
      "name": "cnn.ipynb",
      "provenance": [],
      "collapsed_sections": [],
      "mount_file_id": "1y5yNhywImls8xHqkxyI8G6p1onQFx9jD",
      "authorship_tag": "ABX9TyNrGYz75+8Tj5RJY+ZA4hxq",
      "include_colab_link": true
    },
    "kernelspec": {
      "name": "python3",
      "display_name": "Python 3"
    },
    "accelerator": "GPU"
  },
  "cells": [
    {
      "cell_type": "markdown",
      "metadata": {
        "id": "view-in-github",
        "colab_type": "text"
      },
      "source": [
        "<a href=\"https://colab.research.google.com/github/abegpatel/Binary-classification-using-CNN-cats-dog-/blob/master/cnn.ipynb\" target=\"_parent\"><img src=\"https://colab.research.google.com/assets/colab-badge.svg\" alt=\"Open In Colab\"/></a>"
      ]
    },
    {
      "cell_type": "code",
      "metadata": {
        "id": "y7fqL4oNriRo",
        "colab_type": "code",
        "colab": {
          "base_uri": "https://localhost:8080/",
          "height": 53
        },
        "outputId": "88637a89-cad8-42f9-b431-470de5fd8d88"
      },
      "source": [
        "from google.colab import drive\n",
        "drive.mount('/content/drive')"
      ],
      "execution_count": 1,
      "outputs": [
        {
          "output_type": "stream",
          "text": [
            "Drive already mounted at /content/drive; to attempt to forcibly remount, call drive.mount(\"/content/drive\", force_remount=True).\n"
          ],
          "name": "stdout"
        }
      ]
    },
    {
      "cell_type": "code",
      "metadata": {
        "id": "R8-UOjgFVqzR",
        "colab_type": "code",
        "colab": {}
      },
      "source": [
        "!unzip -uq \"/content/drive/My Drive/P16_Convolutional_Neural_Networks.zip\" -d \"/content/drive/My Drive/\""
      ],
      "execution_count": 2,
      "outputs": []
    },
    {
      "cell_type": "markdown",
      "metadata": {
        "id": "lc2hqVcHB_vx",
        "colab_type": "text"
      },
      "source": [
        ""
      ]
    },
    {
      "cell_type": "markdown",
      "metadata": {
        "id": "EikBIMzWB6Wo",
        "colab_type": "text"
      },
      "source": [
        "step1-covoulutional operation\n",
        "step1.1.-reLu Layer\n",
        "step2-pooling\n",
        "step3-flattening\n",
        "step4-full cnnection\n"
      ]
    },
    {
      "cell_type": "markdown",
      "metadata": {
        "id": "mvvmJYCeCHbO",
        "colab_type": "text"
      },
      "source": [
        "convoulution op-(f*g)=inte(-infinity to + infinity)(f(T)g(t-T)dT\n",
        "IP IMAGE  x  feature detector=feature map(no. of match 1 each  3*3 to 1 cell)\n",
        "(.reduce he size(easy to process)\n",
        "no of feature map(edge detect,edge enhance,sharphen,blur..)-apply to input image to recognize the image\n",
        "step 1.1(relu layer)-input-cnn layer-activation func(rectifier)relctifier-(bcz increase non-linearlity)\n",
        "eg.pic-black=-ve white=+ve\n",
        " relu does only non negative value\n",
        " step 2-max pooling-use to recognize the different image in different dimension and prevent unwanted info\n",
        "after done covoulution-feature map->max pooling->pooled feature map(.reducing size,preserving the features,no of parameter,removing the unwanted info)\n",
        "(min poolig/sum pooling/max p0oling)\n",
        "ip-con op-diff fetaure map-diff poolled map\n",
        " step3-flattening-pooled featue map->flattening(put them all no into column which an i/p layer of ann)\n",
        "full conection-\n",
        " flattening-ann layer\n",
        "          -input layer-hidden layer(fully connected layer)-output layer-actual value\n",
        " eg-\n",
        "  flatenning ip layer->hidden layer 1-hidden layer 2->op layer y1-dog y2-cat(binary clasification)\n",
        "   .error calculated-back proagated-and adjust weights,( by graident descent,ascent descent)\n",
        "  .(connected to o/p layer).if both neurons is for both-then by training high precedence for the  corresponding o/p neuron should be take into account to listen them\n",
        "  .by pedicting it is dog or cat -by voting form each nueron according to their weight importance(most)-and precicted\n",
        " summerize:\n",
        " input image-convolution layer-pooling layer-(flattening->ann ip layer->)->fully connected ann net->final fully connected layer->back popagation->fullly trained cnn to classify them\n",
        "additional-softmax(cross entropy):\n",
        "softmax is a linera clasifier use cross entrop as a loss function\n",
        " how the o/p neuron conncetd to each and how do they know->\n",
        " dog->z1\n",
        " cat->z2\n",
        " .softmax(fj(z)=e^zj/sume(e^zk)\n",
        " cross entopy function:\n",
        " h(p,q)=-summe x(p(X)-log q(x))\n",
        " sse/(after softmax->cross entropy fucn)\n",
        "dog=0.9\n",
        "cat=0.1\n",
        "its a dog\n",
        "h(p,q)->        1,0(dog,cat)\n",
        "   p=1,q=0.9\n",
        "classification error\n",
        "mse \n",
        "cross entropy-> during back propagation -op val very tiny(helps to improve bcz using log) not mse/classifiaction -higg var\n",
        "better for classification\n",
        "\n",
        "\n"
      ]
    },
    {
      "cell_type": "code",
      "metadata": {
        "id": "h7Puty0oW2Zg",
        "colab_type": "code",
        "colab": {}
      },
      "source": [
        "\n",
        "# Part 1 - Building the CNN\n",
        "\n",
        "# Importing the Keras libraries and packages\n",
        "from keras.models import Sequential\n",
        "from keras.layers import Conv2D\n",
        "from keras.layers import MaxPooling2D\n",
        "from keras.layers import Flatten\n",
        "from keras.layers import Dense\n",
        "import tensorflow.compat.v1 as tf\n",
        "from keras_preprocessing.image import ImageDataGenerator\n",
        "from keras import preprocessing\n",
        "\n",
        "import numpy as np"
      ],
      "execution_count": 3,
      "outputs": []
    },
    {
      "cell_type": "code",
      "metadata": {
        "id": "68_g1yWxW237",
        "colab_type": "code",
        "colab": {}
      },
      "source": [
        "# Initialising the CNN\n",
        "classifier = Sequential()\n"
      ],
      "execution_count": 4,
      "outputs": []
    },
    {
      "cell_type": "code",
      "metadata": {
        "id": "IdkxvKhNW22A",
        "colab_type": "code",
        "colab": {}
      },
      "source": [
        "# Step 1 - Convolution\n",
        "classifier.add(Conv2D(32, (3, 3), input_shape = (64, 64, 3), activation = 'relu'))\n",
        "\n"
      ],
      "execution_count": 5,
      "outputs": []
    },
    {
      "cell_type": "code",
      "metadata": {
        "id": "sUob0uddfcNc",
        "colab_type": "code",
        "colab": {}
      },
      "source": [
        "#Step 2 - Pooling\n",
        "classifier.add(MaxPooling2D(pool_size = (2, 2)))"
      ],
      "execution_count": 6,
      "outputs": []
    },
    {
      "cell_type": "code",
      "metadata": {
        "id": "LXaGKtsZhLqc",
        "colab_type": "code",
        "colab": {}
      },
      "source": [
        "#Adding a second convolutional layer\n",
        "classifier.add(Conv2D(32, (3, 3), activation = 'relu'))\n",
        "classifier.add(MaxPooling2D(pool_size = (2, 2)))"
      ],
      "execution_count": 7,
      "outputs": []
    },
    {
      "cell_type": "code",
      "metadata": {
        "id": "z5JSeVsphe-8",
        "colab_type": "code",
        "colab": {}
      },
      "source": [
        "#Step 3 - Flattening\n",
        "classifier.add(Flatten())"
      ],
      "execution_count": 8,
      "outputs": []
    },
    {
      "cell_type": "code",
      "metadata": {
        "id": "-MwHhTaLhoN1",
        "colab_type": "code",
        "colab": {}
      },
      "source": [
        "#Step 4 - Full connection\n",
        "classifier.add(Dense(units = 128, activation = 'relu'))\n",
        "classifier.add(Dense(units = 1, activation = 'sigmoid'))\n",
        "\n"
      ],
      "execution_count": 9,
      "outputs": []
    },
    {
      "cell_type": "code",
      "metadata": {
        "id": "fCuxbBwBiEIV",
        "colab_type": "code",
        "colab": {}
      },
      "source": [
        "#Compiling the CNN\n",
        "classifier.compile(optimizer = 'adam', loss = 'binary_crossentropy', metrics = ['accuracy'])\n"
      ],
      "execution_count": 10,
      "outputs": []
    },
    {
      "cell_type": "code",
      "metadata": {
        "id": "kzHB0hByiKua",
        "colab_type": "code",
        "colab": {
          "base_uri": "https://localhost:8080/",
          "height": 50
        },
        "outputId": "a99f193d-4c37-4477-e7bf-f6c7f28c3b81"
      },
      "source": [
        "# Part 2 - Fitting the CNN to the images\n",
        "\n",
        "\n",
        "#from keras.preprocessing.image import ImageDataGenerator\n",
        "\n",
        "train_datagen = ImageDataGenerator(rescale = 1./255,\n",
        "                                   shear_range = 0.2,\n",
        "                                   zoom_range = 0.2,\n",
        "                                   horizontal_flip = True)\n",
        "\n",
        "test_datagen = ImageDataGenerator(rescale = 1./255)\n",
        "\n",
        "training_set = train_datagen.flow_from_directory('/content/drive/My Drive/Convolutional_Neural_Networks/dataset/training_set',\n",
        "                                                 target_size = (64, 64),\n",
        "                                                 batch_size = 32,\n",
        "                                                 class_mode = 'binary')\n",
        "\n",
        "test_set = test_datagen.flow_from_directory('/content/drive/My Drive/Convolutional_Neural_Networks/dataset/test_set',\n",
        "                                            target_size = (64, 64),\n",
        "                                            batch_size = 32,\n",
        "                                            class_mode = 'binary')\n",
        "\n",
        "\n"
      ],
      "execution_count": 11,
      "outputs": [
        {
          "output_type": "stream",
          "text": [
            "Found 8055 images belonging to 2 classes.\n",
            "Found 2000 images belonging to 2 classes.\n"
          ],
          "name": "stdout"
        }
      ]
    },
    {
      "cell_type": "code",
      "metadata": {
        "id": "6R0HLCuv32Kl",
        "colab_type": "code",
        "colab": {
          "base_uri": "https://localhost:8080/",
          "height": 120
        },
        "outputId": "245e4e5a-45d0-4e2b-f138-0aacdec7509e"
      },
      "source": [
        "classifier.fit_generator(training_set,\n",
        "                         steps_per_epoch = 20,#20#8000\n",
        "                         epochs = 1,#25\n",
        "                         validation_data = test_set,\n",
        "                         validation_steps = 10)#10#2000"
      ],
      "execution_count": 12,
      "outputs": [
        {
          "output_type": "stream",
          "text": [
            "WARNING:tensorflow:From <ipython-input-12-78c04fdd3ca9>:5: Model.fit_generator (from tensorflow.python.keras.engine.training) is deprecated and will be removed in a future version.\n",
            "Instructions for updating:\n",
            "Please use Model.fit, which supports generators.\n",
            "20/20 [==============================] - 499s 25s/step - loss: 0.6951 - accuracy: 0.5328 - val_loss: 0.6799 - val_accuracy: 0.5406\n"
          ],
          "name": "stdout"
        },
        {
          "output_type": "execute_result",
          "data": {
            "text/plain": [
              "<tensorflow.python.keras.callbacks.History at 0x7fccb02da080>"
            ]
          },
          "metadata": {
            "tags": []
          },
          "execution_count": 12
        }
      ]
    },
    {
      "cell_type": "code",
      "metadata": {
        "id": "8JIV0ilJue8N",
        "colab_type": "code",
        "colab": {}
      },
      "source": [
        "\n",
        "#predictions=classifier.predict_generator(test_datagen,\n",
        "#                                    steps=np.math.ceil(test_datagen.samplewise_std_normalization),\n",
        "#                                    verbose=1,\n",
        "#                                    workers=2,\n",
        "#                                    max_queue_size=10,\n",
        "#                                    pickle_safe=True)\n",
        "\n"
      ],
      "execution_count": 20,
      "outputs": []
    },
    {
      "cell_type": "code",
      "metadata": {
        "id": "oVHblJ1t6b6B",
        "colab_type": "code",
        "colab": {}
      },
      "source": [
        "#t_steps=numpy.math.ceil(test_datagen.batch_size)"
      ],
      "execution_count": 21,
      "outputs": []
    },
    {
      "cell_type": "code",
      "metadata": {
        "id": "JvnUM4sq1cuu",
        "colab_type": "code",
        "colab": {}
      },
      "source": [
        "#predictions=classifier.predict_generator(test_datagen,steps=test_epoch)\n",
        "#np.array(predictions)\n",
        "#predicted_classes=numpy.argmax(predictions,axis=1)\n"
      ],
      "execution_count": 23,
      "outputs": []
    },
    {
      "cell_type": "code",
      "metadata": {
        "id": "2555hp3FAX8C",
        "colab_type": "code",
        "colab": {}
      },
      "source": [
        "#from keras.wrappers.scikit_learn import KerasClassifier\n",
        "#predictions1=KerasClassifier.predict(predictions)\n",
        "#predicted_classes=numpy.argmax(predictions1,axis=1)\n"
      ],
      "execution_count": null,
      "outputs": []
    },
    {
      "cell_type": "code",
      "metadata": {
        "id": "eTHK6a6DxTi-",
        "colab_type": "code",
        "colab": {}
      },
      "source": [
        "#true_classes=test_datagen.classes\n",
        "#class_labels=list(test_datagen.class_indices.keys())"
      ],
      "execution_count": null,
      "outputs": []
    },
    {
      "cell_type": "code",
      "metadata": {
        "id": "I7lpHTyUAWkR",
        "colab_type": "code",
        "colab": {}
      },
      "source": [
        ""
      ],
      "execution_count": null,
      "outputs": []
    },
    {
      "cell_type": "code",
      "metadata": {
        "id": "nqU6XMQaxZIg",
        "colab_type": "code",
        "colab": {}
      },
      "source": [
        "#from sklearn.metrics import classification_report\n",
        "#report=metrics.classification_report(true_classes,predicted_classes,target_names=class_labels)\n",
        "#print(report)"
      ],
      "execution_count": 26,
      "outputs": []
    },
    {
      "cell_type": "code",
      "metadata": {
        "id": "k9M30-oNi7bD",
        "colab_type": "code",
        "colab": {}
      },
      "source": [
        "# Part 3 - Making new predictions\n",
        "\n",
        "import numpy as np\n",
        "from keras.preprocessing import image\n",
        "test_image = image.load_img('/content/drive/My Drive/Convolutional_Neural_Networks/dataset/single_prediction/cat_or_dog_2.jpg', target_size = (64, 64))\n",
        "test_image = image.img_to_array(test_image)\n",
        "test_image = np.expand_dims(test_image, axis = 0)\n",
        "result = classifier.predict(test_image)\n",
        "training_set.class_indices\n",
        "if result[0][0] == 1:\n",
        "    prediction = 'dog'\n",
        "else:\n",
        "    prediction = 'cat'"
      ],
      "execution_count": 27,
      "outputs": []
    },
    {
      "cell_type": "code",
      "metadata": {
        "id": "RQG7LE-eCD82",
        "colab_type": "code",
        "colab": {
          "base_uri": "https://localhost:8080/",
          "height": 33
        },
        "outputId": "57f0f7ad-410e-4ddc-8443-f99ceca2b054"
      },
      "source": [
        "print(prediction)"
      ],
      "execution_count": 28,
      "outputs": [
        {
          "output_type": "stream",
          "text": [
            "dog\n"
          ],
          "name": "stdout"
        }
      ]
    },
    {
      "cell_type": "code",
      "metadata": {
        "id": "wJQBKx3zCPtc",
        "colab_type": "code",
        "colab": {}
      },
      "source": [
        "from keras.wrappers.scikit_learn import KerasClassifier\n",
        "from sklearn.model_selection import GridSearchCV\n",
        "from keras.models import Sequential\n",
        "from keras.layers import Dense\n",
        "def build_classifier(optimizer):\n",
        "    classifier = Sequential()\n",
        "    classifier.add(Dense(Conv2D(32, (3, 3), input_shape = (64, 64, 3), activation = 'relu')))\n",
        "    classifier.add(Dense(MaxPooling2D(pool_size = (2, 2))))\n",
        "    classifier.add(Dense(Conv2D(32,';' (3, 3), activation = 'relu')))\n",
        "    classifier.add(Dense(MaxPooling2D(pool_size = (2, 2))))\n",
        "    classifier.add(Dense(Flatten()))\n",
        "    classifier.add(Dense(Dense(units = 128, activation = 'relu')))\n",
        "    classifier.add(Dense(Dense(units = 1, activation = 'sigmoid')))\n",
        "    classifier.compile(optimizer = 'adam', loss = 'binary_crossentropy', metrics = ['accuracy'])\n",
        "    return classifier\n",
        "classifier = KerasClassifier(build_fn = build_classifier)\n",
        "parameters = {'batch_size': [25, 32],\n",
        "              'epochs': [100, 500],\n",
        "              'optimizer': ['adam', 'rmsprop']}\n",
        "grid_search = GridSearchCV(estimator = classifier,\n",
        "                           param_grid = parameters,\n",
        "                           scoring = 'accuracy',\n",
        "                           cv = 10)\n",
        "grid_search = grid_search.fit(test_set)#training_set,test_set\n",
        "best_parameters = grid_search.best_params_\n",
        "best_accuracy = grid_search.best_score_"
      ],
      "execution_count": 31,
      "outputs": []
    },
    {
      "cell_type": "code",
      "metadata": {
        "id": "pbBEZ4xtDiaZ",
        "colab_type": "code",
        "colab": {}
      },
      "source": [
        ""
      ],
      "execution_count": null,
      "outputs": []
    }
  ]
}